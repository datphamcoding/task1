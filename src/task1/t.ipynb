{
 "cells": [
  {
   "metadata": {
    "ExecuteTime": {
     "end_time": "2025-09-06T13:09:51.733939535Z",
     "start_time": "2025-09-06T13:09:51.373865254Z"
    }
   },
   "cell_type": "code",
   "source": "data class Model(val id:Int, val value:Int)",
   "outputs": [],
   "execution_count": 1
  },
  {
   "metadata": {
    "collapsed": true,
    "ExecuteTime": {
     "end_time": "2025-09-06T13:14:30.843908227Z",
     "start_time": "2025-09-06T13:14:28.382489227Z"
    }
   },
   "cell_type": "code",
   "source": [
    "val hashSet = hashSetOf<Model>()\n",
    "for(i in 1..5_000_000){\n",
    "    hashSet.add(Model(i,i))\n",
    "}"
   ],
   "outputs": [],
   "execution_count": 10
  },
  {
   "metadata": {
    "ExecuteTime": {
     "end_time": "2025-09-06T13:14:35.086344693Z",
     "start_time": "2025-09-06T13:14:32.768447201Z"
    }
   },
   "cell_type": "code",
   "source": [
    "val linkedHashSet = mutableSetOf<Model>()\n",
    "for(i in 1..5_000_000){\n",
    "    linkedHashSet.add(Model(i,i))\n",
    "}"
   ],
   "outputs": [],
   "execution_count": 11
  },
  {
   "metadata": {
    "ExecuteTime": {
     "end_time": "2025-09-06T13:12:41.104120942Z",
     "start_time": "2025-09-06T13:12:40.398687051Z"
    }
   },
   "cell_type": "code",
   "source": [
    "val hashSet = hashSetOf<Int>()\n",
    "for(i in 1..5_000_000){\n",
    "    hashSet.add(i)\n",
    "}"
   ],
   "outputs": [],
   "execution_count": 8
  },
  {
   "metadata": {
    "ExecuteTime": {
     "end_time": "2025-09-06T13:12:43.565441600Z",
     "start_time": "2025-09-06T13:12:42.932711433Z"
    }
   },
   "cell_type": "code",
   "source": [
    "val linkedHashSet = mutableSetOf<Int>()\n",
    "for(i in 1..5_000_000){\n",
    "    linkedHashSet.add(i)\n",
    "}"
   ],
   "outputs": [],
   "execution_count": 9
  }
 ],
 "metadata": {
  "kernelspec": {
   "display_name": "Kotlin",
   "language": "kotlin",
   "name": "kotlin"
  },
  "language_info": {
   "name": "kotlin",
   "version": "2.2.20-Beta2",
   "mimetype": "text/x-kotlin",
   "file_extension": ".kt",
   "pygments_lexer": "kotlin",
   "codemirror_mode": "text/x-kotlin",
   "nbconvert_exporter": ""
  }
 },
 "nbformat": 4,
 "nbformat_minor": 0
}
